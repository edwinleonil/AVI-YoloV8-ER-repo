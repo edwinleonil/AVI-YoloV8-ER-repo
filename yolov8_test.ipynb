{
 "cells": [
  {
   "cell_type": "code",
   "execution_count": 26,
   "metadata": {},
   "outputs": [
    {
     "name": "stderr",
     "output_type": "stream",
     "text": [
      "\n",
      "image 1/1 c:\\Users\\me1elar\\Documents\\GitHub\\YoloV8\\dataset\\images\\train\\Part 1_A00772261_Res_3_Normals Y.png: 640x640 1 Pinsite, 34.1ms\n",
      "Speed: 3.0ms preprocess, 34.1ms inference, 5.0ms postprocess per image at shape (1, 3, 640, 640)\n"
     ]
    }
   ],
   "source": [
    "from ultralytics import YOLO\n",
    "import os\n",
    "from PIL import ImageDraw, ImageFont, Image\n",
    "import numpy as np\n",
    "\n",
    "# Load a pretrained YOLO model (recommended for training)\n",
    "model = YOLO('runs/detect/train/weights/best.pt')\n",
    "\n",
    "# specify the path to the folder containing the images\n",
    "folder_path = 'dataset/images/train'\n",
    "\n",
    "# get a list of all the files in the folder\n",
    "file_list = os.listdir(folder_path)\n",
    "\n",
    "image_index = 8\n",
    "\n",
    "# joint the folder path and the image name\n",
    "image_path = os.path.join(folder_path, file_list[image_index])\n",
    "\n",
    "# Run inference on a single image\n",
    "results = model(image_path)\n",
    "\n",
    "# get the label, confidence and xyxy from the results\n",
    "for r in results:\n",
    "    label = r.boxes.cls.cpu().numpy().astype(int)\n",
    "    conf = r.boxes.conf.cpu().numpy().astype(float)\n",
    "    xyxy = r.boxes.xyxy.cpu().numpy().astype(int)\n",
    "\n",
    "    # joint the label, confidence and xyxy into a single list of one dimension\n",
    "    label_conf_xyxy = np.concatenate((label.reshape(-1,1), conf.reshape(-1,1), xyxy), axis=1)\n",
    "\n",
    "# # get p1 and p2\n",
    "p1 = label_conf_xyxy[:,2:4]\n",
    "p2 = label_conf_xyxy[:,4:6]\n",
    "\n",
    "# convert p1 and p2 to a list of tuples adn keep them as integers\n",
    "p1 = [tuple(map(int, p)) for p in p1]\n",
    "p2 = [tuple(map(int, p)) for p in p2]\n",
    "\n",
    "# # show the image with the bounding boxes using the tuples p1 and p2\n",
    "img = Image.open(image_path)\n",
    "\n",
    "# convert the image to RGB\n",
    "img = img.convert('RGB')\n",
    "\n",
    "# draw the bounding boxes on the image and show the image\n",
    "for i in range(len(p1)):\n",
    "    draw = ImageDraw.Draw(img)\n",
    "    draw.rectangle((p1[i], p2[i]), outline='red', width=3)\n",
    "img.show()\n",
    "\n"
   ]
  },
  {
   "cell_type": "code",
   "execution_count": 2,
   "metadata": {},
   "outputs": [
    {
     "name": "stdout",
     "output_type": "stream",
     "text": [
      "{'path': 'C:\\\\Users\\\\me1elar\\\\Documents\\\\GitHub\\\\YoloV8\\\\dataset', 'train': 'images/train', 'val': 'images/val', 'test': None, 'names': {0: 'Pinsite'}}\n"
     ]
    }
   ],
   "source": [
    "# aupdate yolov8.yaml file\n",
    "\n",
    "import yaml\n",
    "\n",
    "with open('yolov8.yaml') as f:\n",
    "    data = yaml.load(f, Loader=yaml.FullLoader)\n",
    "    print(data)\n",
    "# update the names parameter\n",
    "data['names'][1] = 'person'\n",
    "data['names'][2] = 'bicycle'\n",
    "\n",
    "# save the updated yaml file\n",
    "with open('yolov8.yaml', 'w') as f:\n",
    "    yaml.dump(data, f)\n",
    "\n",
    "\n",
    "                 \n"
   ]
  },
  {
   "cell_type": "code",
   "execution_count": 1,
   "metadata": {},
   "outputs": [
    {
     "name": "stderr",
     "output_type": "stream",
     "text": [
      "\n",
      "image 1/1 c:\\Users\\me1elar\\Documents\\GitHub\\YoloV8\\static\\images\\Part 1_A00759575_Res_3_Normals X.png: 640x640 2 Pinsites, 19.8ms\n",
      "Speed: 0.0ms preprocess, 19.8ms inference, 6.0ms postprocess per image at shape (1, 3, 640, 640)\n"
     ]
    }
   ],
   "source": [
    "from PIL import Image\n",
    "from ultralytics import YOLO\n",
    "\n",
    "# Load a pretrained YOLOv8n model\n",
    "model = YOLO('runs/detect/train/weights/best.pt')\n",
    "\n",
    "# joint the folder path and the image name\n",
    "image_path = 'static/images/Part 1_A00759575_Res_3_Normals X.png'\n",
    "\n",
    "# Run inference on a single image\n",
    "results = model(image_path)\n",
    "\n",
    "# Show the results\n",
    "for r in results:\n",
    "    im_array = r.plot()  # plot a BGR numpy array of predictions\n",
    "    im = Image.fromarray(im_array[..., ::-1])  # RGB PIL image\n",
    "    im.show()  # show image\n"
   ]
  }
 ],
 "metadata": {
  "kernelspec": {
   "display_name": "YoloV8",
   "language": "python",
   "name": "python3"
  },
  "language_info": {
   "codemirror_mode": {
    "name": "ipython",
    "version": 3
   },
   "file_extension": ".py",
   "mimetype": "text/x-python",
   "name": "python",
   "nbconvert_exporter": "python",
   "pygments_lexer": "ipython3",
   "version": "3.9.17"
  },
  "orig_nbformat": 4
 },
 "nbformat": 4,
 "nbformat_minor": 2
}
